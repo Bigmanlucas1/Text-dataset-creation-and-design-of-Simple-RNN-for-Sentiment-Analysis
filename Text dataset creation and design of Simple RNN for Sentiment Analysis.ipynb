{
 "cells": [
  {
   "cell_type": "markdown",
   "id": "bc558649",
   "metadata": {},
   "source": [
    "#### HABUMUGISHA Emmanuel\n",
    "#### 225229109"
   ]
  },
  {
   "cell_type": "markdown",
   "id": "4f769d3a",
   "metadata": {},
   "source": [
    "### Lab15. Text dataset creation and design of Simple RNN for Sentiment Analysis"
   ]
  },
  {
   "cell_type": "code",
   "execution_count": 18,
   "id": "2f6b73c8",
   "metadata": {},
   "outputs": [],
   "source": [
    "import csv\n",
    "import tensorflow as tf\n",
    "import numpy as np\n",
    "import pandas as pd\n",
    "import matplotlib.pyplot as plt\n",
    "from tensorflow.keras.preprocessing.text import Tokenizer\n",
    "from tensorflow.keras.preprocessing.sequence import pad_sequences"
   ]
  },
  {
   "cell_type": "code",
   "execution_count": 19,
   "id": "1e7245a5",
   "metadata": {},
   "outputs": [],
   "source": [
    "from keras.models import Sequential\n",
    "from keras.layers import Dense, Embedding,SimpleRNN"
   ]
  },
  {
   "cell_type": "code",
   "execution_count": 20,
   "id": "e7d9e0eb",
   "metadata": {},
   "outputs": [
    {
     "name": "stderr",
     "output_type": "stream",
     "text": [
      "[nltk_data] Downloading package stopwords to C:\\Users\\ISHIMWE K\n",
      "[nltk_data]     AHMED\\AppData\\Roaming\\nltk_data...\n",
      "[nltk_data]   Package stopwords is already up-to-date!\n"
     ]
    },
    {
     "data": {
      "text/plain": [
       "True"
      ]
     },
     "execution_count": 20,
     "metadata": {},
     "output_type": "execute_result"
    }
   ],
   "source": [
    "import nltk\n",
    "nltk.download('stopwords')"
   ]
  },
  {
   "cell_type": "code",
   "execution_count": 21,
   "id": "43bf76df",
   "metadata": {},
   "outputs": [],
   "source": [
    "from nltk.corpus import stopwords\n",
    "\n",
    "STOPWORDS = set(stopwords.words('english'))"
   ]
  },
  {
   "cell_type": "code",
   "execution_count": 22,
   "id": "9598bad4",
   "metadata": {},
   "outputs": [],
   "source": [
    "#2. Creation of data"
   ]
  },
  {
   "cell_type": "code",
   "execution_count": 23,
   "id": "ab1ac60b",
   "metadata": {},
   "outputs": [],
   "source": [
    "df = pd.read_csv(\"quotes.csv\",encoding=\"ISO-8859-1\")"
   ]
  },
  {
   "cell_type": "code",
   "execution_count": 24,
   "id": "49332d7d",
   "metadata": {},
   "outputs": [
    {
     "data": {
      "text/html": [
       "<div>\n",
       "<style scoped>\n",
       "    .dataframe tbody tr th:only-of-type {\n",
       "        vertical-align: middle;\n",
       "    }\n",
       "\n",
       "    .dataframe tbody tr th {\n",
       "        vertical-align: top;\n",
       "    }\n",
       "\n",
       "    .dataframe thead th {\n",
       "        text-align: right;\n",
       "    }\n",
       "</style>\n",
       "<table border=\"1\" class=\"dataframe\">\n",
       "  <thead>\n",
       "    <tr style=\"text-align: right;\">\n",
       "      <th></th>\n",
       "      <th>Text</th>\n",
       "      <th>author</th>\n",
       "      <th>category</th>\n",
       "      <th>Label</th>\n",
       "    </tr>\n",
       "  </thead>\n",
       "  <tbody>\n",
       "    <tr>\n",
       "      <th>0</th>\n",
       "      <td>I'm selfish, impatient and a little insecure. ...</td>\n",
       "      <td>Marilyn Monroe</td>\n",
       "      <td>attributed-no-source, best, life, love, mistak...</td>\n",
       "      <td>1</td>\n",
       "    </tr>\n",
       "    <tr>\n",
       "      <th>1</th>\n",
       "      <td>You've gotta dance like there's nobody watchin...</td>\n",
       "      <td>William W. Purkey</td>\n",
       "      <td>dance, heaven, hurt, inspirational, life, love...</td>\n",
       "      <td>1</td>\n",
       "    </tr>\n",
       "    <tr>\n",
       "      <th>2</th>\n",
       "      <td>You know you're in love when you can't fall as...</td>\n",
       "      <td>Dr. Seuss</td>\n",
       "      <td>attributed-no-source, dreams, love, reality, s...</td>\n",
       "      <td>1</td>\n",
       "    </tr>\n",
       "    <tr>\n",
       "      <th>3</th>\n",
       "      <td>A friend is someone who knows all about you an...</td>\n",
       "      <td>Elbert Hubbard</td>\n",
       "      <td>friend, friendship, knowledge, love</td>\n",
       "      <td>1</td>\n",
       "    </tr>\n",
       "    <tr>\n",
       "      <th>4</th>\n",
       "      <td>Darkness cannot drive out darkness: only light...</td>\n",
       "      <td>Martin Luther King Jr., A Testament of Hope: T...</td>\n",
       "      <td>darkness, drive-out, hate, inspirational, ligh...</td>\n",
       "      <td>1</td>\n",
       "    </tr>\n",
       "  </tbody>\n",
       "</table>\n",
       "</div>"
      ],
      "text/plain": [
       "                                                Text  \\\n",
       "0  I'm selfish, impatient and a little insecure. ...   \n",
       "1  You've gotta dance like there's nobody watchin...   \n",
       "2  You know you're in love when you can't fall as...   \n",
       "3  A friend is someone who knows all about you an...   \n",
       "4  Darkness cannot drive out darkness: only light...   \n",
       "\n",
       "                                              author  \\\n",
       "0                                     Marilyn Monroe   \n",
       "1                                  William W. Purkey   \n",
       "2                                          Dr. Seuss   \n",
       "3                                     Elbert Hubbard   \n",
       "4  Martin Luther King Jr., A Testament of Hope: T...   \n",
       "\n",
       "                                            category  Label  \n",
       "0  attributed-no-source, best, life, love, mistak...      1  \n",
       "1  dance, heaven, hurt, inspirational, life, love...      1  \n",
       "2  attributed-no-source, dreams, love, reality, s...      1  \n",
       "3                friend, friendship, knowledge, love      1  \n",
       "4  darkness, drive-out, hate, inspirational, ligh...      1  "
      ]
     },
     "execution_count": 24,
     "metadata": {},
     "output_type": "execute_result"
    }
   ],
   "source": [
    "df.head()"
   ]
  },
  {
   "cell_type": "code",
   "execution_count": 25,
   "id": "7e72f5d4",
   "metadata": {},
   "outputs": [],
   "source": [
    "#3. Opening your CSV file"
   ]
  },
  {
   "cell_type": "code",
   "execution_count": 26,
   "id": "c20014ba",
   "metadata": {},
   "outputs": [],
   "source": [
    "import csv"
   ]
  },
  {
   "cell_type": "code",
   "execution_count": 27,
   "id": "adaed579",
   "metadata": {},
   "outputs": [
    {
     "data": {
      "text/plain": [
       "_io.TextIOWrapper"
      ]
     },
     "execution_count": 27,
     "metadata": {},
     "output_type": "execute_result"
    }
   ],
   "source": [
    "file = open('quotes.csv')\n",
    "\n",
    "type(file)"
   ]
  },
  {
   "cell_type": "code",
   "execution_count": 28,
   "id": "8c3c68c5",
   "metadata": {},
   "outputs": [],
   "source": [
    "csvreader = csv.reader(file)"
   ]
  },
  {
   "cell_type": "code",
   "execution_count": 29,
   "id": "03532101",
   "metadata": {},
   "outputs": [
    {
     "data": {
      "text/plain": [
       "['Text', 'author', 'category', 'Label']"
      ]
     },
     "execution_count": 29,
     "metadata": {},
     "output_type": "execute_result"
    }
   ],
   "source": [
    "header = []\n",
    "header = next(csvreader)\n",
    "header"
   ]
  },
  {
   "cell_type": "code",
   "execution_count": 30,
   "id": "f8dd37ab",
   "metadata": {},
   "outputs": [
    {
     "name": "stdout",
     "output_type": "stream",
     "text": [
      "[['Text', 'author', 'category', 'Label'], [\"I'm selfish, impatient and a little insecure. I make mistakes, I am out of control and at times hard to handle. But if you can't handle me at my worst, then you sure as hell don't deserve me at my best.\", 'Marilyn Monroe', 'attributed-no-source, best, life, love, mistakes, out-of-control, truth, worst', '1'], [\"You've gotta dance like there's nobody watching,Love like you'll never be hurt,Sing like there's nobody listening,And live like it's heaven on earth.\", 'William W. Purkey', 'dance, heaven, hurt, inspirational, life, love, sing', '1'], [\"You know you're in love when you can't fall asleep because reality is finally better than your dreams.\", 'Dr. Seuss', 'attributed-no-source, dreams, love, reality, sleep', '1'], ['A friend is someone who knows all about you and still loves you.', 'Elbert Hubbard', 'friend, friendship, knowledge, love', '1'], ['Darkness cannot drive out darkness: only light can do that. Hate cannot drive out hate: only love can do that.', 'Martin Luther King Jr., A Testament of Hope: The Essential Writings and Speeches', 'darkness, drive-out, hate, inspirational, light, love, peace', '1'], ['We accept the love we think we deserve.', 'Stephen Chbosky, The Perks of Being a Wallflower', 'inspirational, love', '1'], ['Only once in your life, I truly believe, you find someone who can completely turn your world around. You tell them things that you’ve never shared with another soul and they absorb everything you say and actually want to hear more. You share hopes for the future, dreams that will never come true, goals that were never achieved and the many disappointments life has thrown at you. When something wonderful happens, you can’t wait to tell them about it, knowing they will share in your excitement. They are not embarrassed to cry with you when you are hurting or laugh with you when you make a fool of yourself. Never do they hurt your feelings or make you feel like you are not good enough, but rather they build you up and show you the things about yourself that make you special and even beautiful. There is never any pressure, jealousy or competition but only a quiet calmness when they are around. You can be yourself and not worry about what they will think of you because they love you for who you are. The things that seem insignificant to most people such as a note, song or walk become invaluable treasures kept safe in your heart to cherish forever. Memories of your childhood come back and are so clear and vivid it’s like being young again. Colours seem brighter and more brilliant. Laughter seems part of daily life where before it was infrequent or didn’t exist at all. A phone call or two during the day helps to get you through a long day’s work and always brings a smile to your face. In their presence, there’s no need for continuous conversation, but you find you’re quite content in just having them nearby. Things that never interested you before become fascinating because you know they are important to this person who is so special to you. You think of this person on every occasion and in everything you do. Simple things bring them to mind like a pale blue sky, gentle wind or even a storm cloud on the horizon. You open your heart knowing that there’s a chance it may be broken one day and in opening your heart, you experience a love and joy that you never dreamed possible. You find that being vulnerable is the only way to allow your heart to feel true pleasure that’s so real it scares you. You find strength in knowing you have a true friend and possibly a soul mate who will remain loyal to the end. Life seems completely different, exciting and worthwhile. Your only hope and security is in knowing that they are a part of your life.', 'Bob Marley', 'love', '1'], ['It is better to be hated for what you are than to be loved for what you are not.', 'André Gide, Autumn Leaves', 'life, love', '1'], ['As he read, I fell in love the way you fall asleep: slowly, and then all at once.', 'John Green, The Fault in Our Stars', 'love', '1'], [\"The opposite of love is not hate, it's indifference. The opposite of art is not ugliness, it's indifference. The opposite of faith is not heresy, it's indifference. And the opposite of life is not death, it's indifference.\", 'Elie Wiesel', 'activism, apathy, hate, indifference, inspirational, love, opposite, philosophy', '1'], ['It is not a lack of love, but a lack of friendship that makes unhappy marriages.', 'Friedrich Nietzsche', 'friendship, lack-of-friendship, lack-of-love, love, marriage, unhappy-marriage', '1'], ['I love you without knowing how, or when, or from where. I love you simply, without problems or pride: I love you in this way because I do not know any other way of loving but this, in which there is no I or you, so intimate that your hand upon my chest is my hand, so intimate that when I fall asleep your eyes close.', 'Pablo Neruda, 100 Love Sonnets', 'love, poetry', '1'], ['Love all, trust a few, do wrong to none.', \"William Shakespeare, All's Well That Ends Well\", 'do-wrong, love, trust, wrong', '1'], [\"Have you ever been in love? Horrible isn't it? It makes you so vulnerable. It opens your chest and it opens up your heart and it means that someone can get inside you and mess you up.\", 'Neil Gaiman, The Kindly Ones', 'love', '1'], ['Being deeply loved by someone gives you strength, while loving someone deeply gives you courage.', 'Lao Tzu', 'courage, deeply-loved, love, strength, widely-misattributed', '1'], [\"This life is what you make it. No matter what, you're going to mess up sometimes, it's a universal truth. But the good part is you get to decide how you're going to mess it up. Girls will be your friends - they'll act like it anyway. But just remember, some come, some go. The ones that stay with you through everything - they're your true best friends. Don't let go of them. Also remember, sisters make the best friends in the world. As for lovers, well, they'll come and go too. And baby, I hate to say it, most of them - actually pretty much all of them are going to break your heart, but you can't give up because if you give up, you'll never find your soulmate. You'll never find that half who makes you whole and that goes for everything. Just because you fail once, doesn't mean you're gonna fail at everything. Keep trying, hold on, and always, always, always believe in yourself, because if you don't, then who will, sweetie? So keep your head high, keep your chin up, and most importantly, keep smiling, because life's a beautiful thing and there's so much to smile about.\", 'Marilyn Monroe', 'attributed-no-source, friends, heartbreak, inspirational, life, love, sisters', '1'], ['There is never a time or place for true love. It happens accidentally, in a heartbeat, in a single flashing, throbbing moment.', 'Sarah Dessen, The Truth About Forever', 'love', '1'], ['Love is that condition in which the happiness of another person is essential to your own.', 'Robert A. Heinlein, Stranger in a Strange Land', 'essential, happiness, love', '1'], ['You love me. Real or not real?\"I tell him, \"Real.', 'Suzanne Collins, Mockingjay', 'katniss, love, peeta, suzanne-collins, the-hunger-games', '1'], [\"You may not be her first, her last, or her only. She loved before she may love again. But if she loves you now, what else matters? She's not perfect—you aren't either, and the two of you may never be perfect together but if she can make you laugh, cause you to think twice, and admit to being human and making mistakes, hold onto her and give her the most you can. She may not be thinking about you every second of the day, but she will give you a part of her that she knows you can break—her heart. So don't hurt her, don't change her, don't analyze and don't expect more than she can give. Smile when she makes you happy, let her know when she makes you mad, and miss her when she's not there.\", 'Bob Marley', 'love', '1'], [\"I am nothing special, of this I am sure. I am a common man with common thoughts and I've led a common life. There are no monuments dedicated to me and my name will soon be forgotten, but I've loved another with all my heart and soul, and to me, this has always been enough..\", 'Nicholas Sparks, The Notebook', 'love', '1'], ['I\\'m in love with you,\" he said quietly.\"Augustus,\" I said.\"I am,\" he said. He was staring at me, and I could see the corners of his eyes crinkling. \"I\\'m in love with you, and I\\'m not in the business of denying myself the simple pleasure of saying true things. I\\'m in love with you, and I know that love is just a shout into the void, and that oblivion is inevitable, and that we\\'re all doomed and that there will come a day when all our labor has been returned to dust, and I know the sun will swallow the only earth we\\'ll ever have, and I am in love with you.', 'John Green, The Fault in Our Stars', 'doomed, inevitable, love, oblivion, pleasure, simple', '1'], ['Love looks not with the eyes, but with the mind,And therefore is winged Cupid painted blind.', \"William Shakespeare, A Midsummer Night's Dream\", 'love', '1'], [\"Love is like the wind, you can't see it but you can feel it.\", 'Nicholas Sparks, A Walk to Remember', 'love, simile', '1'], [\"People think a soul mate is your perfect fit, and that's what everyone wants. But a true soul mate is a mirror, the person who shows you everything that is holding you back, the person who brings you to your own attention so you can change your life. A true soul mate is probably the most important person you'll ever meet, because they tear down your walls and smack you awake. But to live with a soul mate forever? Nah. Too painful. Soul mates, they come into your life just to reveal another layer of yourself to you, and then leave. A soul mates purpose is to shake you up, tear apart your ego a little bit, show you your obstacles and addictions, break your heart open so new light can get in, make you so desperate and out of control that you have to transform your life, then introduce you to your spiritual master...\", 'Elizabeth Gilbert, Eat, Pray, Love', 'love', '1'], ['If you can make a woman laugh, you can make her do anything.', 'Marilyn Monroe', 'attributed-no-source, girls, love', '1'], [\"You don't love someone because they're perfect, you love them in spite of the fact that they're not.\", \"Jodi Picoult, My Sister's Keeper\", 'imperfect, love', '1'], ['We’re all a little weird. And life is a little weird. And when we find someone whose weirdness is compatible with ours, we join up with them and fall into mutually satisfying weirdness—and call it love—true love.', 'Robert Fulghum, True Love', 'love, weirdness', '1'], [\"Love never dies a natural death. It dies because we don't know how to replenish its source. It dies of blindness and errors and betrayals. It dies of illness and wounds; it dies of weariness, of witherings, of tarnishings.\", 'Anaïs Nin', 'death, love', '1'], ['There is nothing I would not do for those who are really my friends. I have no notion of loving people by halves, it is not my nature.', 'Jane Austen, Northanger Abbey', 'friendship, love', '1'], ['The real lover is the man who can thrill you by kissing your forehead or smiling into your eyes or just staring into space.', 'Marilyn Monroe', 'attributed-no-source, love', '1'], ['If I had a flower for every time I thought of you...I could walk through my garden forever.', 'Alfred Tennyson', 'friendship, love', '1'], ['To love at all is to be vulnerable. Love anything and your heart will be wrung and possibly broken. If you want to make sure of keeping it intact you must give it to no one, not even an animal. Wrap it carefully round with hobbies and little luxuries; avoid all entanglements. Lock it up safe in the casket or coffin of your selfishness. But in that casket, safe, dark, motionless, airless, it will change. It will not be broken; it will become unbreakable, impenetrable, irredeemable. To love is to be vulnerable.', 'C.S. Lewis, The Four Loves', 'love', '1'], ['When someone loves you, the way they talk about you is different. You feel safe and comfortable.', 'Jess C. Scott, The Intern', 'desire, emotion, friendship, honesty, imagination, individuality, life, love, passion, reality, relationships, romance, truth, wisdom, wise-words', '1'], ['Dumbledore watched her fly away, and as her silvery glow faded he turned back to Snape, and his eyes were full of tears.\"After all this time?\"\"Always,\" said Snape.', 'J.K. Rowling, Harry Potter and the Deathly Hallows', 'dumbledore, life, love, snape', '1'], [\"I've been making a list of the things they don't teach you at school. They don't teach you how to love somebody. They don't teach you how to be famous. They don't teach you how to be rich or how to be poor. They don't teach you how to walk away from someone you don't love any longer. They don't teach you how to know what's going on in someone else's mind. They don't teach you what to say to someone who's dying. They don't teach you anything worth knowing.\", 'Neil Gaiman, The Kindly Ones', 'dying, facts, fame, knowing, love, poverty, reality, school, teach, wealth', '1'], ['To die will be an awfully big adventure.', 'J.M. Barrie, Peter Pan', 'adventure, love', '1'], [\"A lady's imagination is very rapid; it jumps from admiration to love, from love to matrimony in a moment.\", 'Jane Austen, Pride and Prejudice', 'humor, love, romantic, women', '1'], [\"So it's not gonna be easy. It's going to be really hard; we're gonna have to work at this everyday, but I want to do that because I want you. I want all of you, forever, everyday. You and me... everyday.\", 'Nicholas Sparks, The Notebook', 'love, marriage', '1'], [\"Just when you think it can't get any worse, it can. And just when you think it can't get any better, it can.\", 'Nicholas Sparks, At First Sight', 'life, love', '1'], ['Tis better to have loved and lost, Than never to have loved at all.', 'Alfred Tennyson, In Memoriam', 'love, paraphrase-of-congreve', '1'], ['I love you as certain dark things are to be loved, in secret, between the shadow and the soul.', 'Pablo Neruda, 100 Love Sonnets', 'love, poetry', '1'], ['He’s not perfect. You aren’t either, and the two of you will never be perfect. But if he can make you laugh at least once, causes you to think twice, and if he admits to being human and making mistakes, hold onto him and give him the most you can. He isn’t going to quote poetry, he’s not thinking about you every moment, but he will give you a part of him that he knows you could break. Don’t hurt him, don’t change him, and don’t expect for more than he can give. Don’t analyze. Smile when he makes you happy, yell when he makes you mad, and miss him when he’s not there. Love hard when there is love to be had. Because perfect guys don’t exist, but there’s always one guy that is perfect for you.', 'Bob Marley', 'inspirational, love', '1'], ['The one you love and the one who loves you are never, ever the same person.', 'Chuck Palahniuk, Invisible Monsters', 'life, love', '1'], ['Some people don\\'t understand the promises they\\'re making when they make them,\" I said.\"Right, of course. But you keep the promise anyway. That\\'s what love is. Love is keeping the promise anyway.', 'John Green, The Fault in Our Stars', 'faith, faithfulness, love, promises', '1'], ['I no longer believed in the idea of soul mates, or love at first sight. But I was beginning to believe that a very few times in your life, if you were lucky, you might meet someone who was exactly right for you. Not because he was perfect, or because you were, but because your combined flaws were arranged in a way that allowed two separate beings to hinge together.', 'Lisa Kleypas, Blue-Eyed Devil', 'love, relationships, romance', '1'], [\"Love is needing someone. Love is putting up with someone's bad qualities because they somehow complete you.\", 'Sarah Dessen, This Lullaby', 'love', '1'], ['When I despair, I remember that all through history the way of truth and love have always won. There have been tyrants and murderers, and for a time, they can seem invincible, but in the end, they always fall. Think of it--always.', 'Mahatma Gandhi', 'despair, evil, goodness, inspirational, love, sadness, truth, victory', '1'], ['Love is patient, love is kind. It does not envy, it does not boast, it is not proud. It is not rude, it is not self-seeking, it is not easily angered, it keeps no record of wrongs. Love does not delight in evil but rejoices with the truth. It always protects, always trusts, always hopes, always perseveres.', 'Anonymous, Holy Bible: New International Version', 'bible, love', '1'], ['One is loved because one is loved. No reason is needed for loving.', 'Paulo Coelho, The Alchemist', 'love', '1'], ['When we love, we always strive to become better than we are. When we strive to become better than we are, everything around us becomes better too.', 'Paulo Coelho, The Alchemist', 'hope, inspiration, love, santiago', '1'], ['We love the things we love for what they are.', 'Robert Frost', 'love, poetry', '1'], [\"I would die for you. But I won't live for you.\", 'Stephen Chbosky, The Perks of Being a Wallflower', 'love', '1'], ['In vain have I struggled. It will not do. My feelings will not be repressed. You must allow me to tell you how ardently I admire and love you.', 'Jane Austen, Pride And Prejudice', 'love, mr-darcy', '1'], ['Perhaps all the dragons in our lives are princesses who are only waiting to see us act, just once, with beauty and courage. Perhaps everything that frightens us is, in its deepest essence, something helpless that wants our love.', 'Rainer Maria Rilke, Letters to a Young Poet', 'love', '1'], ['You are, and always have been, my dream.', 'Nicholas Sparks, The Notebook', 'love', '1'], ['You are my best friend as well as my lover, and I do not know which side of you I enjoy the most. I treasure each side, just as I have treasured our life together.', 'Nicholas Sparks, The Notebook', 'friendship, love', '1'], [\"I carry your heart with me (I carry it in my heart)I am never without it (anywhereI go you go,my dear; and whatever is done by only me is your doing,my darling)I fear no fate (for you are my fate,my sweet)I want no world (for beautiful you are my world,my true)and it's you are whatever a moon has always meant and whatever a sun will always sing is youhere is the deepest secret nobody knows(here is the root of the root and the bud of the bud and the sky of the sky of a tree called life; which growshigher than the soul can hope or mind can hide)and this is the wonder that's keeping the stars apartI carry your heart (I carry it in my heart)\", 'E.E. Cummings', 'love, poetry', '1'], ['The only thing worse than a boy who hates you: a boy that loves you.', 'Markus Zusak, The Book Thief', 'boys, hate, love', '1'], ['So, I love you because the entire universe conspired to help me find you.', 'Paulo Coelho, The Alchemist', 'love', '1'], ['And now I’m looking at you,” he said, “and you’re asking me if I still want you, as if I could stop loving you. As if I would want to give up the thing that makes me stronger than anything else ever has. I never dared give much of myself to anyone before – bits of myself to the Lightwoods, to Isabelle and Alec, but it took years to do it – but, Clary, since the first time I saw you, I have belonged to you completely. I still do. If you want me.', 'Cassandra Clare, City of Glass', 'cassandra-clare, city-of-glass, clary, jace, love, mortal-instruments', '1'], ['Where there is love there is life.', 'Mahatma Gandhi', 'life, love', '1'], [\"Never love anyone who treats you like you're ordinary.\", 'Oscar Wilde', 'love, ordinary, people', '1'], ['Promise YourselfTo be so strong that nothingcan disturb your peace of mind.To talk health, happiness, and prosperityto every person you meet.To make all your friends feelthat there is something in themTo look at the sunny side of everythingand make your optimism come true.To think only the best, to work only for the best,and to expect only the best.To be just as enthusiastic about the success of othersas you are about your own.To forget the mistakes of the pastand press on to the greater achievements of the future.To wear a cheerful countenance at all timesand give every living creature you meet a smile.To give so much time to the improvement of yourselfthat you have no time to criticize others.To be too large for worry, too noble for anger, too strong for fear,and too happy to permit the presence of trouble.To think well of yourself and to proclaim this fact to the world,not in loud words but great deeds.To live in faith that the whole world is on your sideso long as you are true to the best that is in you.', 'Christian D. Larson, Your Forces and How to Use Them', 'happiness, inspirational, love, optimism, strength', '1'], ['I would always rather be happy than dignified.', 'Charlotte Brontë, Jane Eyre', 'love, pride, women', '1'], [\"Life will break you. Nobody can protect you from that, and living alone won't either, for solitude will also break you with its yearning. You have to love. You have to feel. It is the reason you are here on earth. You are here to risk your heart. You are here to be swallowed up. And when it happens that you are broken, or betrayed, or left, or hurt, or death brushes near, let yourself sit by an apple tree and listen to the apples falling all around you in heaps, wasting their sweetness. Tell yourself you tasted as many as you could.\", 'Louise Erdrich, The Painted Drum', 'heartbreak, life, living, love, strength', '1'], ['Once upon a time there was a boy who loved a girl, and her laughter was a question he wanted to spend his whole life answering.', 'Nicole Krauss, The History of Love', 'love', '1'], ['Nobody has ever measured, not even poets, how much the heart can hold.', 'Zelda Fitzgerald', 'love', '1'], [\"The best love is the kind that awakens the soul and makes us reach for more, that plants a fire in our hearts and brings peace to our minds. And that's what you've given me. That's what I'd hoped to give you forever\", 'Nicholas Sparks', 'love, nicholas-sparks, romance, the-notebook', '1'], ['There are two basic motivating forces: fear and love. When we are afraid, we pull back from life. When we are in love, we open to all that life has to offer with passion, excitement, and acceptance. We need to learn to love ourselves first, in all our glory and our imperfections. If we cannot love ourselves, we cannot fully open to our ability to love others or our potential to create. Evolution and all hopes for a better world rest in the fearlessness and open-hearted vision of people who embrace life.', 'John Lennon', 'beatles, fear, life, love', '1'], [\"We fell in love, despite our differences, and once we did, something rare and beautiful was created. For me, love like that has only happened once, and that's why every minute we spent together has been seared in my memory. I'll never forget a single moment of it.\", 'Nicholas Sparks, The Notebook', 'love', '1'], [\"Some women choose to follow men, and some women choose to follow their dreams. If you're wondering which way to go, remember that your career will never wake up and tell you that it doesn't love you anymore.\", 'Lady Gaga', 'love, romance, work', '1'], ['I think you still love me, but we can’t escape the fact that I’m not enough for you. I knew this was going to happen. So I’m not blaming you for falling in love with another woman. I’m not angry, either. I should be, but I’m not. I just feel pain. A lot of pain. I thought I could imagine how much this would hurt, but I was wrong.', 'Haruki Murakami, South of the Border, West of the Sun', 'breakup, infidelity, love, pain, relationships', '1'], ['We loved with a love that was more than love.', 'Edgar Allan Poe', 'logic, love', '1'], ['And so the lion fell in love with the lamb…\" he murmured. I looked away, hiding my eyes as I thrilled to the word.\"What a stupid lamb,\" I sighed.\"What a sick, masochistic lion.', 'Stephenie Meyer, Twilight', 'bella, edward, love', '1'], ['This is a good sign, having a broken heart. It means we have tried for something.', 'Elizabeth Gilbert, Eat, Pray, Love', 'heartache, love', '1'], ['Every heart sings a song, incomplete, until another heart whispers back. Those who wish to sing always find a song. At the touch of a lover, everyone becomes a poet.', 'Plato', 'love, poetry, song', '1'], ['I heard what you said. I’m not the silly romantic you think. I don’t want the heavens or the shooting stars. I don’t want gemstones or gold. I have those things already. I want…a steady hand. A kind soul. I want to fall asleep, and wake, knowing my heart is safe. I want to love, and be loved.', 'Shana Abe', 'love, romance', '1'], ['A guy and a girl can be just friends, but at one point or another, they will fall for each other...Maybe temporarily, maybe at the wrong time, maybe too late, or maybe forever', 'Dave Matthews Band', 'dave-matthews, friends, love, relationships', '1'], ['The more I know of the world, the more I am convinced that I shall never see a man whom I can really love. I require so much!', 'Jane Austen, Sense and Sensibility', 'love, requirements', '1'], [\"Eleanor was right. She never looked nice. She looked like art, and art wasn't supposed to look nice; it was supposed to make you feel something.\", 'Rainbow Rowell, Eleanor & Park', 'art, love', '1'], [\"He's more myself than I am. Whatever our souls are made of, his and mine are the same.\", 'Emily Brontë, Wuthering Heights', 'love', '1'], ['I have decided to stick to love...Hate is too great a burden to bear.', 'Martin Luther King Jr., A Testament of Hope: The Essential Writings and Speeches', 'hate, love', '1'], [\"What's meant to be will always find a way\", 'Trisha Yearwood', 'fate, inspiration, love', '1'], [\"Above all, don't lie to yourself. The man who lies to himself and listens to his own lie comes to a point that he cannot distinguish the truth within him, or around him, and so loses all respect for himself and for others. And having no respect he ceases to love.\", 'Fyodor Dostoyevsky, The Brothers Karamazov', 'lies, love, respect, self-deception, truth', '1'], [\"Out beyond ideas of wrongdoing and rightdoing there is a field.I'll meet you there.When the soul lies down in that grassthe world is too full to talk about.\", 'Jalaluddin Rumi', 'friendship, love, peace, silence, soul, zen', '1'], [\"Everyone, at some point in their lives, wakes up in the middle of the night with the feeling that they are all alone in the world, and that nobody loves them now and that nobody will ever love them, and that they will never have a decent night's sleep again and will spend their lives wandering blearily around a loveless landscape, hoping desperately that their circumstances will improve, but suspecting, in their heart of hearts, that they will remain unloved forever. The best thing to do in these circumstances is to wake somebody else up, so that they can feel this way, too.\", 'Lemony Snicket, Horseradish', 'love', '1'], ['They say a person needs just three things to be truly happy in this world: someone to love, something to do, and something to hope for.', 'Tom Bodett', 'happiness, hope, joy, love, wishing', '1'], [\"Two people in love, alone, isolated from the world, that's beautiful.\", 'Milan Kundera', 'love', '1'], [\"No relationship is perfect, ever. There are always some ways you have to bend, to compromise, to give something up in order to gain something greater...The love we have for each other is bigger than these small differences. And that's the key. It's like a big pie chart, and the love in a relationship has to be the biggest piece. Love can make up for a lot.\", 'Sarah Dessen, This Lullaby', 'love', '1'], ['The heart was made to be broken.', 'Oscar Wilde', 'heartbreak, love', '1'], ['Love is always patient and kind. It is never jealous. Love is never boastful or conceited. It is never rude or selfish. It does not take offense and is not resentful. Love takes no pleasure in other people’s sins, but delights in the truth. It is always ready to excuse, to trust, to hope, and to endure whatever comes.', 'Anonymous, Holy Bible: New International Version', '1-corinthians-13, love', '1'], ['I have a history of making decisions very quickly about men. I have always fallen in love fast and without measuring risks. I have a tendency not only to see the best in everyone, but to assume that everyone is emotionally capable of reaching his highest potential. I have fallen in love more times than I care to count with the highest potential of a man, rather than with the man himself, and I have hung on to the relationship for a long time (sometimes far too long) waiting for the man to ascend to his own greatness. Many times in romance I have been a victim of my own optimism.', 'Elizabeth Gilbert, Eat, Pray, Love', 'disappointment, love, romance', '1'], ['This above all: to thine own self be true, And it must follow, as the night the day, Thou canst not then be false to any man.', 'William Shakespeare, Hamlet', 'food, love, music', '1'], [\"For the two of us, home isn't a place. It is a person. And we are finally home.\", 'Stephanie Perkins, Anna and the French Kiss', 'home, love, relationships, touching', '1'], ['They didn’t agree on much. In fact, they didn’t agree on anything. They fought all the time and challenged each other ever day. But despite their differences, they had one important thing in common. They were crazy about each other.', 'Nicholas Sparks, The Notebook', 'dear-john, love, nicholas-sparks, romance, the-notebook', '1'], ['You could have had anything else in the world, and you asked for me.\"She smiled up at him. Filthy as he was, covered in blood and dirt, he was the most beautiful thing she\\'d ever seen.\"But I don\\'t want anything else in the world.', 'Cassandra Clare, City of Glass', 'clary-fray, jace-wayland, love', '1'], [\"I think if I've learned anything about friendship, it's to hang in, stay connected, fight for them, and let them fight for you. Don't walk away, don't be distracted, don't be too busy or tired, don't take them for granted. Friends are part of the glue that holds life and faith together. Powerful stuff.\", 'Jon Katz', 'faith, friends, friendship, love', '1'], [\"Have you ever been in love? Horrible isn't it? It makes you so vulnerable. It opens your chest and it opens up your heart and it means that someone can get inside you and mess you up. You build up all these defenses, you build up a whole suit of armor, so that nothing can hurt you, then one stupid person, no different from any other stupid person, wanders into your stupid life...You give them a piece of you. They didn't ask for it. They did something dumb one day, like kiss you or smile at you, and then your life isn't your own anymore. Love takes hostages. It gets inside you. It eats you out and leaves you crying in the darkness, so simple a phrase like 'maybe we should be just friends' turns into a glass splinter working its way into your heart. It hurts. Not just in the imagination. Not just in the mind. It's a soul-hurt, a real gets-inside-you-and-rips-you-apart pain. I hate love.\", 'Neil Gaiman, The Kindly Ones', 'love', '1']]\n"
     ]
    }
   ],
   "source": [
    "# List of possible encodings to try\n",
    "encodings_to_try = ['utf-8', 'ISO-8859-1', 'cp1252']  # Add more if needed\n",
    "\n",
    "# Initialize an empty list to store rows\n",
    "rows = []\n",
    "\n",
    "# Try different encodings until one succeeds or all fail\n",
    "for encoding in encodings_to_try:\n",
    "    try:\n",
    "        with open(\"quotes.csv\", mode=\"r\", encoding=encoding) as file:\n",
    "            csvreader = csv.reader(file)\n",
    "\n",
    "            # Iterate through the rows and append them to the list\n",
    "            for row in csvreader:\n",
    "                rows.append(row)\n",
    "        # If we reach this point, encoding succeeded, so break out of the loop\n",
    "        break\n",
    "    except UnicodeDecodeError:\n",
    "        # If encoding failed, continue to the next encoding in the list\n",
    "        continue\n",
    "\n",
    "# Now, the `rows` list contains all the rows from the CSV file\n",
    "print(rows)\n"
   ]
  },
  {
   "cell_type": "code",
   "execution_count": 31,
   "id": "913a69f6",
   "metadata": {},
   "outputs": [],
   "source": [
    "file.close()"
   ]
  },
  {
   "cell_type": "code",
   "execution_count": 32,
   "id": "d007f16c",
   "metadata": {},
   "outputs": [
    {
     "name": "stdout",
     "output_type": "stream",
     "text": [
      "<class 'pandas.core.frame.DataFrame'>\n",
      "RangeIndex: 99 entries, 0 to 98\n",
      "Data columns (total 4 columns):\n",
      " #   Column    Non-Null Count  Dtype \n",
      "---  ------    --------------  ----- \n",
      " 0   Text      99 non-null     object\n",
      " 1   author    99 non-null     object\n",
      " 2   category  99 non-null     object\n",
      " 3   Label     99 non-null     int64 \n",
      "dtypes: int64(1), object(3)\n",
      "memory usage: 3.2+ KB\n"
     ]
    }
   ],
   "source": [
    "df.info()"
   ]
  },
  {
   "cell_type": "code",
   "execution_count": 33,
   "id": "c8d66215",
   "metadata": {},
   "outputs": [],
   "source": [
    "#4. Pre-processing the text"
   ]
  },
  {
   "cell_type": "code",
   "execution_count": 34,
   "id": "1e94aa3b",
   "metadata": {},
   "outputs": [],
   "source": [
    "y = df['Label']\n",
    "X = df['Text']"
   ]
  },
  {
   "cell_type": "code",
   "execution_count": 35,
   "id": "4e30539b",
   "metadata": {},
   "outputs": [],
   "source": [
    "#5. Dataset Preparation"
   ]
  },
  {
   "cell_type": "code",
   "execution_count": 36,
   "id": "5759f9d1",
   "metadata": {},
   "outputs": [],
   "source": [
    "from sklearn.model_selection import train_test_split\n",
    "X_train, X_val, y_train, y_val = train_test_split(X, y, test_size=0.3)"
   ]
  },
  {
   "cell_type": "code",
   "execution_count": 37,
   "id": "f789bf93",
   "metadata": {},
   "outputs": [
    {
     "name": "stdout",
     "output_type": "stream",
     "text": [
      "(69,)\n",
      "(30,)\n",
      "(69,)\n",
      "(30,)\n"
     ]
    }
   ],
   "source": [
    "print(X_train.shape)\n",
    "print(X_val.shape)\n",
    "print(y_train.shape)\n",
    "print(y_val.shape)"
   ]
  },
  {
   "cell_type": "code",
   "execution_count": 38,
   "id": "5f584279",
   "metadata": {},
   "outputs": [
    {
     "data": {
      "text/plain": [
       "{'<oov>': 1,\n",
       " 'you': 2,\n",
       " 'to': 3,\n",
       " 'and': 4,\n",
       " 'the': 5,\n",
       " 'a': 6,\n",
       " 'i': 7,\n",
       " 'in': 8,\n",
       " 'love': 9,\n",
       " 'of': 10}"
      ]
     },
     "execution_count": 38,
     "metadata": {},
     "output_type": "execute_result"
    }
   ],
   "source": [
    "# 4th step to be continue\n",
    "train_token = Tokenizer(num_words=100,oov_token='<oov>')\n",
    "train_token.fit_on_texts(X_train)\n",
    "word_index = train_token.word_index\n",
    "train_sequence = train_token.texts_to_sequences(X_train)\n",
    "dict(list(word_index.items())[0:10])"
   ]
  },
  {
   "cell_type": "code",
   "execution_count": 39,
   "id": "8a63fea7",
   "metadata": {},
   "outputs": [
    {
     "data": {
      "text/plain": [
       "850"
      ]
     },
     "execution_count": 39,
     "metadata": {},
     "output_type": "execute_result"
    }
   ],
   "source": [
    "vocab = len(train_token.word_index) + 1\n",
    "vocab"
   ]
  },
  {
   "cell_type": "code",
   "execution_count": 40,
   "id": "79845f4b",
   "metadata": {},
   "outputs": [
    {
     "data": {
      "text/plain": [
       "[41, 7, 1, 6, 1, 18, 1, 66, 7, 1, 10, 2, 7, 1, 1, 1, 37, 1, 84]"
      ]
     },
     "execution_count": 40,
     "metadata": {},
     "output_type": "execute_result"
    }
   ],
   "source": [
    "train_sequence[3]"
   ]
  },
  {
   "cell_type": "code",
   "execution_count": 41,
   "id": "3a73348a",
   "metadata": {},
   "outputs": [],
   "source": [
    "train_padded = pad_sequences(train_sequence,maxlen=100,padding='post')"
   ]
  },
  {
   "cell_type": "code",
   "execution_count": 42,
   "id": "787dd532",
   "metadata": {},
   "outputs": [
    {
     "data": {
      "text/plain": [
       "array([15,  1,  1, 89,  1,  8,  1, 15,  1,  1, 89, 96, 15,  1, 34,  5, 66,\n",
       "        4,  1,  1,  1, 97, 98, 17,  1, 99,  1, 15,  1, 78,  1,  1,  8,  1,\n",
       "       15,  1,  1, 52,  1,  1,  0,  0,  0,  0,  0,  0,  0,  0,  0,  0,  0,\n",
       "        0,  0,  0,  0,  0,  0,  0,  0,  0,  0,  0,  0,  0,  0,  0,  0,  0,\n",
       "        0,  0,  0,  0,  0,  0,  0,  0,  0,  0,  0,  0,  0,  0,  0,  0,  0,\n",
       "        0,  0,  0,  0,  0,  0,  0,  0,  0,  0,  0,  0,  0,  0,  0])"
      ]
     },
     "execution_count": 42,
     "metadata": {},
     "output_type": "execute_result"
    }
   ],
   "source": [
    "train_padded[5]"
   ]
  },
  {
   "cell_type": "code",
   "execution_count": 43,
   "id": "89b321f3",
   "metadata": {},
   "outputs": [
    {
     "data": {
      "text/plain": [
       "(69, 100)"
      ]
     },
     "execution_count": 43,
     "metadata": {},
     "output_type": "execute_result"
    }
   ],
   "source": [
    "train_padded.shape"
   ]
  },
  {
   "cell_type": "code",
   "execution_count": 44,
   "id": "ba0c3b0a",
   "metadata": {},
   "outputs": [],
   "source": [
    "val_token = Tokenizer(num_words=500,oov_token='<oov>')\n",
    "val_token.fit_on_texts(X_val)\n",
    "val_index = val_token.word_index\n",
    "val_sequence = val_token.texts_to_sequences(X_val)"
   ]
  },
  {
   "cell_type": "code",
   "execution_count": 45,
   "id": "535fd74f",
   "metadata": {},
   "outputs": [
    {
     "data": {
      "text/plain": [
       "[39,\n",
       " 36,\n",
       " 4,\n",
       " 43,\n",
       " 9,\n",
       " 93,\n",
       " 94,\n",
       " 136,\n",
       " 269,\n",
       " 9,\n",
       " 16,\n",
       " 5,\n",
       " 39,\n",
       " 36,\n",
       " 4,\n",
       " 43,\n",
       " 9,\n",
       " 93,\n",
       " 94,\n",
       " 136,\n",
       " 270,\n",
       " 9,\n",
       " 16]"
      ]
     },
     "execution_count": 45,
     "metadata": {},
     "output_type": "execute_result"
    }
   ],
   "source": [
    "val_sequence[4]"
   ]
  },
  {
   "cell_type": "code",
   "execution_count": 46,
   "id": "07becd62",
   "metadata": {},
   "outputs": [],
   "source": [
    "val_padded = pad_sequences(val_sequence,maxlen=100,padding='post')"
   ]
  },
  {
   "cell_type": "code",
   "execution_count": 47,
   "id": "03279563",
   "metadata": {},
   "outputs": [
    {
     "data": {
      "text/plain": [
       "array([ 39,  36,   4,  43,   9,  93,  94, 136, 269,   9,  16,   5,  39,\n",
       "        36,   4,  43,   9,  93,  94, 136, 270,   9,  16,   0,   0,   0,\n",
       "         0,   0,   0,   0,   0,   0,   0,   0,   0,   0,   0,   0,   0,\n",
       "         0,   0,   0,   0,   0,   0,   0,   0,   0,   0,   0,   0,   0,\n",
       "         0,   0,   0,   0,   0,   0,   0,   0,   0,   0,   0,   0,   0,\n",
       "         0,   0,   0,   0,   0,   0,   0,   0,   0,   0,   0,   0,   0,\n",
       "         0,   0,   0,   0,   0,   0,   0,   0,   0,   0,   0,   0,   0,\n",
       "         0,   0,   0,   0,   0,   0,   0,   0,   0])"
      ]
     },
     "execution_count": 47,
     "metadata": {},
     "output_type": "execute_result"
    }
   ],
   "source": [
    "val_padded[4]"
   ]
  },
  {
   "cell_type": "code",
   "execution_count": 48,
   "id": "ec8c28d8",
   "metadata": {},
   "outputs": [],
   "source": [
    "#6. Model Creation"
   ]
  },
  {
   "cell_type": "code",
   "execution_count": 55,
   "id": "2b624dd5",
   "metadata": {},
   "outputs": [],
   "source": [
    "# Define vocabulary_size\n",
    "vocabulary_size = len(val_token.word_index) + 1  # Add 1 for the OOV token\n",
    "\n",
    "# Correct the model architecture\n",
    "model = Sequential()\n",
    "model.add(Embedding(input_dim=vocabulary_size, output_dim=70, input_length=100))\n",
    "model.add(SimpleRNN(70, activation='relu'))\n",
    "model.add(Dense(1, activation='sigmoid'))"
   ]
  },
  {
   "cell_type": "code",
   "execution_count": 56,
   "id": "e1bc6a6a",
   "metadata": {},
   "outputs": [],
   "source": [
    "# Compile the model\n",
    "model.compile(optimizer='adam', loss='binary_crossentropy', metrics=['accuracy'])"
   ]
  },
  {
   "cell_type": "code",
   "execution_count": 51,
   "id": "4f78bce8",
   "metadata": {},
   "outputs": [
    {
     "name": "stdout",
     "output_type": "stream",
     "text": [
      "Model: \"sequential\"\n",
      "_________________________________________________________________\n",
      " Layer (type)                Output Shape              Param #   \n",
      "=================================================================\n",
      " embedding (Embedding)       (None, 100, 70)           21000     \n",
      "                                                                 \n",
      " simple_rnn (SimpleRNN)      (None, 70)                9870      \n",
      "                                                                 \n",
      " dense (Dense)               (None, 1)                 71        \n",
      "                                                                 \n",
      "=================================================================\n",
      "Total params: 30941 (120.86 KB)\n",
      "Trainable params: 30941 (120.86 KB)\n",
      "Non-trainable params: 0 (0.00 Byte)\n",
      "_________________________________________________________________\n"
     ]
    }
   ],
   "source": [
    "model.summary()"
   ]
  },
  {
   "cell_type": "code",
   "execution_count": 57,
   "id": "62a47779",
   "metadata": {},
   "outputs": [
    {
     "name": "stdout",
     "output_type": "stream",
     "text": [
      "Epoch 1/10\n",
      "5/5 - 4s - loss: 0.6284 - accuracy: 0.9710 - 4s/epoch - 857ms/step\n",
      "Epoch 2/10\n",
      "5/5 - 0s - loss: 0.4052 - accuracy: 1.0000 - 182ms/epoch - 36ms/step\n",
      "Epoch 3/10\n",
      "5/5 - 0s - loss: 0.0139 - accuracy: 1.0000 - 210ms/epoch - 42ms/step\n",
      "Epoch 4/10\n",
      "5/5 - 0s - loss: 0.0000e+00 - accuracy: 1.0000 - 220ms/epoch - 44ms/step\n",
      "Epoch 5/10\n",
      "5/5 - 0s - loss: 0.0000e+00 - accuracy: 1.0000 - 197ms/epoch - 39ms/step\n",
      "Epoch 6/10\n",
      "5/5 - 0s - loss: 0.0000e+00 - accuracy: 1.0000 - 190ms/epoch - 38ms/step\n",
      "Epoch 7/10\n",
      "5/5 - 0s - loss: 0.0000e+00 - accuracy: 1.0000 - 168ms/epoch - 34ms/step\n",
      "Epoch 8/10\n",
      "5/5 - 0s - loss: 0.0000e+00 - accuracy: 1.0000 - 189ms/epoch - 38ms/step\n",
      "Epoch 9/10\n",
      "5/5 - 0s - loss: 0.0000e+00 - accuracy: 1.0000 - 220ms/epoch - 44ms/step\n",
      "Epoch 10/10\n",
      "5/5 - 0s - loss: 0.0000e+00 - accuracy: 1.0000 - 190ms/epoch - 38ms/step\n"
     ]
    }
   ],
   "source": [
    "history=model.fit(train_padded,y_train,epochs=10,verbose=2,batch_size=15)"
   ]
  },
  {
   "cell_type": "code",
   "execution_count": 58,
   "id": "4db8dbf3",
   "metadata": {},
   "outputs": [
    {
     "name": "stdout",
     "output_type": "stream",
     "text": [
      "1/1 [==============================] - 1s 619ms/step - loss: 0.0000e+00 - accuracy: 1.0000\n"
     ]
    },
    {
     "data": {
      "text/plain": [
       "[0.0, 1.0]"
      ]
     },
     "execution_count": 58,
     "metadata": {},
     "output_type": "execute_result"
    }
   ],
   "source": [
    "model.evaluate(val_padded,y_val)"
   ]
  },
  {
   "cell_type": "code",
   "execution_count": 59,
   "id": "e11f8813",
   "metadata": {},
   "outputs": [
    {
     "data": {
      "image/png": "[encoded data removed]",
      "text/plain": [
       "<Figure size 640x480 with 1 Axes>"
      ]
     },
     "metadata": {},
     "output_type": "display_data"
    }
   ],
   "source": [
    "plt.plot(history.history['accuracy'])\n",
    "plt.title('Model Accuracy')\n",
    "plt.ylabel('accuracy')\n",
    "plt.xlabel('epoch')\n",
    "plt.show()"
   ]
  },
  {
   "cell_type": "code",
   "execution_count": 60,
   "id": "b6732ddb",
   "metadata": {},
   "outputs": [
    {
     "data": {
      "image/png": "[encoded data removed]",
      "text/plain": [
       "<Figure size 640x480 with 1 Axes>"
      ]
     },
     "metadata": {},
     "output_type": "display_data"
    }
   ],
   "source": [
    "plt.plot(history.history['loss'])\n",
    "plt.title('Model Loss')\n",
    "plt.ylabel('loss')\n",
    "plt.xlabel('epoch')\n",
    "plt.show()"
   ]
  },
  {
   "cell_type": "code",
   "execution_count": 61,
   "id": "e7dac755",
   "metadata": {},
   "outputs": [],
   "source": [
    "text = df[\"Text\"]"
   ]
  },
  {
   "cell_type": "code",
   "execution_count": 62,
   "id": "90071f0f",
   "metadata": {},
   "outputs": [],
   "source": [
    "#sent = [w.lower() for w in text.split() if not w in STOPWORDS]\n",
    "trail_token = Tokenizer()\n",
    "trail_token.fit_on_texts(text)\n",
    "#word_index = trail_token.word_index\n",
    "trail_seq = trail_token.texts_to_sequences(text)\n",
    "#dict(list(word_index.items())[0:10])\n",
    "trail_pad = pad_sequences(trail_seq,maxlen=100,padding='post')"
   ]
  },
  {
   "cell_type": "code",
   "execution_count": 63,
   "id": "2902cbfd",
   "metadata": {},
   "outputs": [
    {
     "data": {
      "text/plain": [
       "array([[143, 291, 435, ...,   0,   0,   0],\n",
       "       [295, 439, 440, ...,   0,   0,   0],\n",
       "       [  1,  79, 126, ...,   0,   0,   0],\n",
       "       ...,\n",
       "       [  1, 121,  22, ...,   0,   0,   0],\n",
       "       [  6,  59,  40, ...,   0,   0,   0],\n",
       "       [ 49,   5, 426, ...,   6, 128,   7]])"
      ]
     },
     "execution_count": 63,
     "metadata": {},
     "output_type": "execute_result"
    }
   ],
   "source": [
    "trail_pad"
   ]
  },
  {
   "cell_type": "code",
   "execution_count": 66,
   "id": "b3da0be7",
   "metadata": {},
   "outputs": [
    {
     "name": "stdout",
     "output_type": "stream",
     "text": [
      "1/1 [==============================] - 0s 75ms/step\n",
      "[[1.]\n",
      " [1.]\n",
      " [1.]\n",
      " [1.]\n",
      " [1.]\n",
      " [1.]\n",
      " [1.]\n",
      " [1.]\n",
      " [1.]\n",
      " [1.]\n",
      " [1.]\n",
      " [1.]\n",
      " [1.]\n",
      " [1.]\n",
      " [1.]\n",
      " [1.]\n",
      " [1.]\n",
      " [1.]\n",
      " [1.]\n",
      " [1.]\n",
      " [1.]\n",
      " [1.]\n",
      " [1.]\n",
      " [1.]\n",
      " [1.]\n",
      " [1.]\n",
      " [1.]\n",
      " [1.]\n",
      " [1.]\n",
      " [1.]] positive\n"
     ]
    },
    {
     "name": "stderr",
     "output_type": "stream",
     "text": [
      "C:\\Users\\ISHIMWE K AHMED\\AppData\\Local\\Temp\\ipykernel_14916\\1332828384.py:3: DeprecationWarning: In future, it will be an error for 'np.bool_' scalars to be interpreted as an index\n",
      "  print(res, label[np.argmax(res) > 0.5])\n"
     ]
    }
   ],
   "source": [
    "res = model.predict(val_padded)\n",
    "label = ['positive', 'negative']\n",
    "print(res, label[np.argmax(res) > 0.5])\n"
   ]
  },
  {
   "cell_type": "code",
   "execution_count": 67,
   "id": "386a4173",
   "metadata": {},
   "outputs": [],
   "source": [
    "#Model 2"
   ]
  },
  {
   "cell_type": "code",
   "execution_count": 68,
   "id": "ca9689cf",
   "metadata": {},
   "outputs": [],
   "source": [
    "model1 = Sequential()\n",
    "# Embedding layer\n",
    "model1.add(Embedding(5000,64,input_length=100))\n",
    "model1.add(SimpleRNN(32,activation='tanh'))\n",
    "model1.add(Embedding(5000,32,input_length=100))\n",
    "model1.add(SimpleRNN(32,activation='tanh' ))\n",
    "model1.add(Dense('1',activation='sigmoid'))"
   ]
  },
  {
   "cell_type": "code",
   "execution_count": 69,
   "id": "dd3c6f0b",
   "metadata": {},
   "outputs": [
    {
     "name": "stdout",
     "output_type": "stream",
     "text": [
      "Model: \"sequential_3\"\n",
      "_________________________________________________________________\n",
      " Layer (type)                Output Shape              Param #   \n",
      "=================================================================\n",
      " embedding_2 (Embedding)     (None, 100, 64)           320000    \n",
      "                                                                 \n",
      " simple_rnn_2 (SimpleRNN)    (None, 32)                3104      \n",
      "                                                                 \n",
      " embedding_3 (Embedding)     (None, 32, 32)            160000    \n",
      "                                                                 \n",
      " simple_rnn_3 (SimpleRNN)    (None, 32)                2080      \n",
      "                                                                 \n",
      " dense_2 (Dense)             (None, 1)                 33        \n",
      "                                                                 \n",
      "=================================================================\n",
      "Total params: 485217 (1.85 MB)\n",
      "Trainable params: 485217 (1.85 MB)\n",
      "Non-trainable params: 0 (0.00 Byte)\n",
      "_________________________________________________________________\n"
     ]
    }
   ],
   "source": [
    "model1.summary()"
   ]
  },
  {
   "cell_type": "code",
   "execution_count": 70,
   "id": "4d8ac381",
   "metadata": {},
   "outputs": [],
   "source": [
    "model1.compile(optimizer='adam',loss='binary_crossentropy',metrics=['accuracy'])"
   ]
  },
  {
   "cell_type": "code",
   "execution_count": 71,
   "id": "d59432f1",
   "metadata": {},
   "outputs": [
    {
     "name": "stdout",
     "output_type": "stream",
     "text": [
      "Epoch 1/10\n",
      "WARNING:tensorflow:Gradients do not exist for variables ['embedding_2/embeddings:0', 'simple_rnn_2/simple_rnn_cell/kernel:0', 'simple_rnn_2/simple_rnn_cell/recurrent_kernel:0', 'simple_rnn_2/simple_rnn_cell/bias:0'] when minimizing the loss. If you're using `model.compile()`, did you forget to provide a `loss` argument?\n",
      "WARNING:tensorflow:Gradients do not exist for variables ['embedding_2/embeddings:0', 'simple_rnn_2/simple_rnn_cell/kernel:0', 'simple_rnn_2/simple_rnn_cell/recurrent_kernel:0', 'simple_rnn_2/simple_rnn_cell/bias:0'] when minimizing the loss. If you're using `model.compile()`, did you forget to provide a `loss` argument?\n",
      "WARNING:tensorflow:Gradients do not exist for variables ['embedding_2/embeddings:0', 'simple_rnn_2/simple_rnn_cell/kernel:0', 'simple_rnn_2/simple_rnn_cell/recurrent_kernel:0', 'simple_rnn_2/simple_rnn_cell/bias:0'] when minimizing the loss. If you're using `model.compile()`, did you forget to provide a `loss` argument?\n",
      "WARNING:tensorflow:Gradients do not exist for variables ['embedding_2/embeddings:0', 'simple_rnn_2/simple_rnn_cell/kernel:0', 'simple_rnn_2/simple_rnn_cell/recurrent_kernel:0', 'simple_rnn_2/simple_rnn_cell/bias:0'] when minimizing the loss. If you're using `model.compile()`, did you forget to provide a `loss` argument?\n",
      "5/5 - 3s - loss: 0.4696 - accuracy: 1.0000 - 3s/epoch - 585ms/step\n",
      "Epoch 2/10\n",
      "5/5 - 0s - loss: 0.3185 - accuracy: 1.0000 - 66ms/epoch - 13ms/step\n",
      "Epoch 3/10\n",
      "5/5 - 0s - loss: 0.2199 - accuracy: 1.0000 - 66ms/epoch - 13ms/step\n",
      "Epoch 4/10\n",
      "5/5 - 0s - loss: 0.1497 - accuracy: 1.0000 - 64ms/epoch - 13ms/step\n",
      "Epoch 5/10\n",
      "5/5 - 0s - loss: 0.1032 - accuracy: 1.0000 - 60ms/epoch - 12ms/step\n",
      "Epoch 6/10\n",
      "5/5 - 0s - loss: 0.0734 - accuracy: 1.0000 - 52ms/epoch - 10ms/step\n",
      "Epoch 7/10\n",
      "5/5 - 0s - loss: 0.0544 - accuracy: 1.0000 - 52ms/epoch - 10ms/step\n",
      "Epoch 8/10\n",
      "5/5 - 0s - loss: 0.0419 - accuracy: 1.0000 - 64ms/epoch - 13ms/step\n",
      "Epoch 9/10\n",
      "5/5 - 0s - loss: 0.0335 - accuracy: 1.0000 - 60ms/epoch - 12ms/step\n",
      "Epoch 10/10\n",
      "5/5 - 0s - loss: 0.0275 - accuracy: 1.0000 - 52ms/epoch - 10ms/step\n"
     ]
    }
   ],
   "source": [
    "history1=model1.fit(train_padded,y_train,epochs=10,verbose=2,batch_size=15)"
   ]
  },
  {
   "cell_type": "code",
   "execution_count": 72,
   "id": "543f3ca1",
   "metadata": {},
   "outputs": [
    {
     "name": "stdout",
     "output_type": "stream",
     "text": [
      "1/1 [==============================] - 0s 257ms/step - loss: 0.0246 - accuracy: 1.0000\n"
     ]
    },
    {
     "data": {
      "text/plain": [
       "[0.02459939941763878, 1.0]"
      ]
     },
     "execution_count": 72,
     "metadata": {},
     "output_type": "execute_result"
    }
   ],
   "source": [
    "model1.evaluate(val_padded,y_val)"
   ]
  },
  {
   "cell_type": "code",
   "execution_count": 73,
   "id": "3d7b61ee",
   "metadata": {},
   "outputs": [
    {
     "data": {
      "image/png": "[encoded data removed]",
      "text/plain": [
       "<Figure size 640x480 with 1 Axes>"
      ]
     },
     "metadata": {},
     "output_type": "display_data"
    }
   ],
   "source": [
    "plt.plot(history1.history['accuracy'])\n",
    "plt.title('Model Accuracy')\n",
    "plt.ylabel('accuracy')\n",
    "plt.xlabel('epoch')\n",
    "plt.show()"
   ]
  },
  {
   "cell_type": "code",
   "execution_count": 74,
   "id": "efec6b6d",
   "metadata": {},
   "outputs": [
    {
     "data": {
      "image/png": "[encoded data removed]",
      "text/plain": [
       "<Figure size 640x480 with 1 Axes>"
      ]
     },
     "metadata": {},
     "output_type": "display_data"
    }
   ],
   "source": [
    "plt.plot(history1.history['loss'])\n",
    "plt.title('Model Loss')\n",
    "plt.ylabel('loss')\n",
    "plt.xlabel('epoch')\n",
    "plt.show()"
   ]
  },
  {
   "cell_type": "code",
   "execution_count": 75,
   "id": "378a453c",
   "metadata": {},
   "outputs": [
    {
     "name": "stdout",
     "output_type": "stream",
     "text": [
      "4/4 [==============================] - 0s 7ms/step\n",
      "[[0.9757007 ]\n",
      " [0.9757007 ]\n",
      " [0.9757007 ]\n",
      " [0.9757007 ]\n",
      " [0.9757007 ]\n",
      " [0.9757007 ]\n",
      " [0.9757007 ]\n",
      " [0.9757007 ]\n",
      " [0.9757007 ]\n",
      " [0.9757007 ]\n",
      " [0.9757007 ]\n",
      " [0.9757007 ]\n",
      " [0.9757007 ]\n",
      " [0.9757007 ]\n",
      " [0.9757007 ]\n",
      " [0.9757007 ]\n",
      " [0.9757007 ]\n",
      " [0.9757007 ]\n",
      " [0.9757007 ]\n",
      " [0.9757007 ]\n",
      " [0.9757007 ]\n",
      " [0.9757007 ]\n",
      " [0.9757007 ]\n",
      " [0.9757007 ]\n",
      " [0.9757007 ]\n",
      " [0.9757007 ]\n",
      " [0.9757007 ]\n",
      " [0.9757007 ]\n",
      " [0.9757007 ]\n",
      " [0.9757007 ]\n",
      " [0.9757007 ]\n",
      " [0.9757007 ]\n",
      " [0.9757007 ]\n",
      " [0.9757007 ]\n",
      " [0.9757007 ]\n",
      " [0.9757007 ]\n",
      " [0.9757007 ]\n",
      " [0.9757007 ]\n",
      " [0.9757007 ]\n",
      " [0.9757007 ]\n",
      " [0.9757007 ]\n",
      " [0.9757007 ]\n",
      " [0.9757007 ]\n",
      " [0.9757007 ]\n",
      " [0.9757007 ]\n",
      " [0.9757007 ]\n",
      " [0.9757007 ]\n",
      " [0.9757007 ]\n",
      " [0.9757007 ]\n",
      " [0.9757007 ]\n",
      " [0.9757007 ]\n",
      " [0.9757007 ]\n",
      " [0.9757007 ]\n",
      " [0.9757007 ]\n",
      " [0.9757007 ]\n",
      " [0.9757007 ]\n",
      " [0.9757007 ]\n",
      " [0.9757007 ]\n",
      " [0.9757007 ]\n",
      " [0.9757007 ]\n",
      " [0.9757007 ]\n",
      " [0.9757007 ]\n",
      " [0.9757007 ]\n",
      " [0.9757007 ]\n",
      " [0.9757007 ]\n",
      " [0.9757007 ]\n",
      " [0.9757007 ]\n",
      " [0.9757007 ]\n",
      " [0.9757007 ]\n",
      " [0.9757007 ]\n",
      " [0.9757007 ]\n",
      " [0.9757007 ]\n",
      " [0.9757007 ]\n",
      " [0.9757007 ]\n",
      " [0.9757007 ]\n",
      " [0.9757007 ]\n",
      " [0.9757007 ]\n",
      " [0.9757007 ]\n",
      " [0.9757007 ]\n",
      " [0.9757007 ]\n",
      " [0.9757007 ]\n",
      " [0.9757007 ]\n",
      " [0.9757007 ]\n",
      " [0.9757007 ]\n",
      " [0.9757007 ]\n",
      " [0.9757007 ]\n",
      " [0.9757007 ]\n",
      " [0.9757007 ]\n",
      " [0.9757007 ]\n",
      " [0.9757007 ]\n",
      " [0.9757007 ]\n",
      " [0.9757007 ]\n",
      " [0.9757007 ]\n",
      " [0.9757007 ]\n",
      " [0.9757007 ]\n",
      " [0.9757007 ]\n",
      " [0.97570074]\n",
      " [0.97570074]\n",
      " [0.97570074]] negative\n"
     ]
    },
    {
     "name": "stderr",
     "output_type": "stream",
     "text": [
      "C:\\Users\\ISHIMWE K AHMED\\AppData\\Local\\Temp\\ipykernel_14916\\2701450631.py:3: DeprecationWarning: In future, it will be an error for 'np.bool_' scalars to be interpreted as an index\n",
      "  print(res,label[np.argmax(trail_pad)>50])\n"
     ]
    }
   ],
   "source": [
    "res = model1.predict(trail_pad)\n",
    "label = ['positive','negative']\n",
    "print(res,label[np.argmax(trail_pad)>50])"
   ]
  },
  {
   "cell_type": "code",
   "execution_count": 76,
   "id": "229d6f3c",
   "metadata": {},
   "outputs": [],
   "source": [
    "#Model 3"
   ]
  },
  {
   "cell_type": "code",
   "execution_count": 77,
   "id": "2f22ed73",
   "metadata": {},
   "outputs": [],
   "source": [
    "model2 = Sequential()\n",
    "# Embedding layer\n",
    "model2.add(Embedding(4000,128,input_length=100))\n",
    "model2.add(SimpleRNN(64,activation='tanh'))\n",
    "model2.add(Embedding(4000,128,input_length=100))\n",
    "model2.add(SimpleRNN(64,activation='relu' ))\n",
    "model2.add(Embedding(4000,128,input_length=100))\n",
    "model2.add(SimpleRNN(64,activation='tanh' ))\n",
    "model2.add(Dense('1',activation='sigmoid'))"
   ]
  },
  {
   "cell_type": "code",
   "execution_count": 78,
   "id": "69d89a26",
   "metadata": {},
   "outputs": [
    {
     "name": "stdout",
     "output_type": "stream",
     "text": [
      "Model: \"sequential_4\"\n",
      "_________________________________________________________________\n",
      " Layer (type)                Output Shape              Param #   \n",
      "=================================================================\n",
      " embedding_4 (Embedding)     (None, 100, 128)          512000    \n",
      "                                                                 \n",
      " simple_rnn_4 (SimpleRNN)    (None, 64)                12352     \n",
      "                                                                 \n",
      " embedding_5 (Embedding)     (None, 64, 128)           512000    \n",
      "                                                                 \n",
      " simple_rnn_5 (SimpleRNN)    (None, 64)                12352     \n",
      "                                                                 \n",
      " embedding_6 (Embedding)     (None, 64, 128)           512000    \n",
      "                                                                 \n",
      " simple_rnn_6 (SimpleRNN)    (None, 64)                12352     \n",
      "                                                                 \n",
      " dense_3 (Dense)             (None, 1)                 65        \n",
      "                                                                 \n",
      "=================================================================\n",
      "Total params: 1573121 (6.00 MB)\n",
      "Trainable params: 1573121 (6.00 MB)\n",
      "Non-trainable params: 0 (0.00 Byte)\n",
      "_________________________________________________________________\n"
     ]
    }
   ],
   "source": [
    "model2.summary()"
   ]
  },
  {
   "cell_type": "code",
   "execution_count": 79,
   "id": "c6f88964",
   "metadata": {},
   "outputs": [],
   "source": [
    "model2.compile(optimizer='adam',loss='binary_crossentropy',metrics=['accuracy'])"
   ]
  },
  {
   "cell_type": "code",
   "execution_count": 80,
   "id": "623627dc",
   "metadata": {},
   "outputs": [
    {
     "name": "stdout",
     "output_type": "stream",
     "text": [
      "Epoch 1/10\n",
      "WARNING:tensorflow:Gradients do not exist for variables ['embedding_4/embeddings:0', 'simple_rnn_4/simple_rnn_cell/kernel:0', 'simple_rnn_4/simple_rnn_cell/recurrent_kernel:0', 'simple_rnn_4/simple_rnn_cell/bias:0', 'embedding_5/embeddings:0', 'simple_rnn_5/simple_rnn_cell/kernel:0', 'simple_rnn_5/simple_rnn_cell/recurrent_kernel:0', 'simple_rnn_5/simple_rnn_cell/bias:0'] when minimizing the loss. If you're using `model.compile()`, did you forget to provide a `loss` argument?\n",
      "WARNING:tensorflow:Gradients do not exist for variables ['embedding_4/embeddings:0', 'simple_rnn_4/simple_rnn_cell/kernel:0', 'simple_rnn_4/simple_rnn_cell/recurrent_kernel:0', 'simple_rnn_4/simple_rnn_cell/bias:0', 'embedding_5/embeddings:0', 'simple_rnn_5/simple_rnn_cell/kernel:0', 'simple_rnn_5/simple_rnn_cell/recurrent_kernel:0', 'simple_rnn_5/simple_rnn_cell/bias:0'] when minimizing the loss. If you're using `model.compile()`, did you forget to provide a `loss` argument?\n",
      "WARNING:tensorflow:Gradients do not exist for variables ['embedding_4/embeddings:0', 'simple_rnn_4/simple_rnn_cell/kernel:0', 'simple_rnn_4/simple_rnn_cell/recurrent_kernel:0', 'simple_rnn_4/simple_rnn_cell/bias:0', 'embedding_5/embeddings:0', 'simple_rnn_5/simple_rnn_cell/kernel:0', 'simple_rnn_5/simple_rnn_cell/recurrent_kernel:0', 'simple_rnn_5/simple_rnn_cell/bias:0'] when minimizing the loss. If you're using `model.compile()`, did you forget to provide a `loss` argument?\n",
      "WARNING:tensorflow:Gradients do not exist for variables ['embedding_4/embeddings:0', 'simple_rnn_4/simple_rnn_cell/kernel:0', 'simple_rnn_4/simple_rnn_cell/recurrent_kernel:0', 'simple_rnn_4/simple_rnn_cell/bias:0', 'embedding_5/embeddings:0', 'simple_rnn_5/simple_rnn_cell/kernel:0', 'simple_rnn_5/simple_rnn_cell/recurrent_kernel:0', 'simple_rnn_5/simple_rnn_cell/bias:0'] when minimizing the loss. If you're using `model.compile()`, did you forget to provide a `loss` argument?\n",
      "5/5 - 2s - loss: 0.5487 - accuracy: 1.0000 - 2s/epoch - 316ms/step\n",
      "Epoch 2/10\n",
      "5/5 - 0s - loss: 0.2392 - accuracy: 1.0000 - 165ms/epoch - 33ms/step\n",
      "Epoch 3/10\n",
      "5/5 - 0s - loss: 0.0884 - accuracy: 1.0000 - 182ms/epoch - 36ms/step\n",
      "Epoch 4/10\n",
      "5/5 - 0s - loss: 0.0371 - accuracy: 1.0000 - 173ms/epoch - 35ms/step\n",
      "Epoch 5/10\n",
      "5/5 - 0s - loss: 0.0191 - accuracy: 1.0000 - 138ms/epoch - 28ms/step\n",
      "Epoch 6/10\n",
      "5/5 - 0s - loss: 0.0116 - accuracy: 1.0000 - 125ms/epoch - 25ms/step\n",
      "Epoch 7/10\n",
      "5/5 - 0s - loss: 0.0081 - accuracy: 1.0000 - 126ms/epoch - 25ms/step\n",
      "Epoch 8/10\n",
      "5/5 - 0s - loss: 0.0062 - accuracy: 1.0000 - 126ms/epoch - 25ms/step\n",
      "Epoch 9/10\n",
      "5/5 - 0s - loss: 0.0050 - accuracy: 1.0000 - 134ms/epoch - 27ms/step\n",
      "Epoch 10/10\n",
      "5/5 - 0s - loss: 0.0043 - accuracy: 1.0000 - 139ms/epoch - 28ms/step\n"
     ]
    }
   ],
   "source": [
    "history2=model2.fit(train_padded,y_train,epochs=10,verbose=2,batch_size=15)"
   ]
  },
  {
   "cell_type": "code",
   "execution_count": 81,
   "id": "2d0299bc",
   "metadata": {},
   "outputs": [
    {
     "name": "stdout",
     "output_type": "stream",
     "text": [
      "1/1 [==============================] - 0s 330ms/step - loss: 0.0039 - accuracy: 1.0000\n"
     ]
    },
    {
     "data": {
      "text/plain": [
       "[0.003931945189833641, 1.0]"
      ]
     },
     "execution_count": 81,
     "metadata": {},
     "output_type": "execute_result"
    }
   ],
   "source": [
    "model2.evaluate(val_padded,y_val)"
   ]
  },
  {
   "cell_type": "code",
   "execution_count": 82,
   "id": "8c1bf2ba",
   "metadata": {},
   "outputs": [
    {
     "data": {
      "image/png": "[encoded data removed]",
      "text/plain": [
       "<Figure size 640x480 with 1 Axes>"
      ]
     },
     "metadata": {},
     "output_type": "display_data"
    }
   ],
   "source": [
    "plt.plot(history2.history['accuracy'])\n",
    "plt.title('Model Accuracy')\n",
    "plt.ylabel('accuracy')\n",
    "plt.xlabel('epoch')\n",
    "plt.show()"
   ]
  },
  {
   "cell_type": "code",
   "execution_count": 83,
   "id": "27d5c6b1",
   "metadata": {},
   "outputs": [
    {
     "data": {
      "image/png": "[encoded data removed]",
      "text/plain": [
       "<Figure size 640x480 with 1 Axes>"
      ]
     },
     "metadata": {},
     "output_type": "display_data"
    }
   ],
   "source": [
    "plt.plot(history2.history['loss'])\n",
    "plt.title('Model Loss')\n",
    "plt.ylabel('loss')\n",
    "plt.xlabel('epoch')\n",
    "plt.show()"
   ]
  },
  {
   "cell_type": "code",
   "execution_count": 84,
   "id": "17bb9117",
   "metadata": {},
   "outputs": [
    {
     "name": "stdout",
     "output_type": "stream",
     "text": [
      "4/4 [==============================] - 0s 13ms/step\n",
      "[[0.99607575]\n",
      " [0.99607575]\n",
      " [0.99607575]\n",
      " [0.99607575]\n",
      " [0.99607575]\n",
      " [0.99607575]\n",
      " [0.99607575]\n",
      " [0.99607575]\n",
      " [0.99607575]\n",
      " [0.99607575]\n",
      " [0.99607575]\n",
      " [0.99607575]\n",
      " [0.99607575]\n",
      " [0.99607575]\n",
      " [0.99607575]\n",
      " [0.99607575]\n",
      " [0.99607575]\n",
      " [0.99607575]\n",
      " [0.99607575]\n",
      " [0.99607575]\n",
      " [0.99607575]\n",
      " [0.99607575]\n",
      " [0.99607575]\n",
      " [0.99607575]\n",
      " [0.99607575]\n",
      " [0.99607575]\n",
      " [0.99607575]\n",
      " [0.99607575]\n",
      " [0.99607575]\n",
      " [0.99607575]\n",
      " [0.99607575]\n",
      " [0.99607575]\n",
      " [0.99607575]\n",
      " [0.99607575]\n",
      " [0.99607575]\n",
      " [0.99607575]\n",
      " [0.99607575]\n",
      " [0.99607575]\n",
      " [0.99607575]\n",
      " [0.99607575]\n",
      " [0.99607575]\n",
      " [0.99607575]\n",
      " [0.99607575]\n",
      " [0.99607575]\n",
      " [0.99607575]\n",
      " [0.99607575]\n",
      " [0.99607575]\n",
      " [0.99607575]\n",
      " [0.99607575]\n",
      " [0.99607575]\n",
      " [0.99607575]\n",
      " [0.99607575]\n",
      " [0.99607575]\n",
      " [0.99607575]\n",
      " [0.99607575]\n",
      " [0.99607575]\n",
      " [0.99607575]\n",
      " [0.99607575]\n",
      " [0.99607575]\n",
      " [0.99607575]\n",
      " [0.99607575]\n",
      " [0.99607575]\n",
      " [0.99607575]\n",
      " [0.99607575]\n",
      " [0.99607575]\n",
      " [0.99607575]\n",
      " [0.99607575]\n",
      " [0.99607575]\n",
      " [0.99607575]\n",
      " [0.99607575]\n",
      " [0.99607575]\n",
      " [0.99607575]\n",
      " [0.99607575]\n",
      " [0.99607575]\n",
      " [0.99607575]\n",
      " [0.99607575]\n",
      " [0.99607575]\n",
      " [0.99607575]\n",
      " [0.99607575]\n",
      " [0.99607575]\n",
      " [0.99607575]\n",
      " [0.99607575]\n",
      " [0.99607575]\n",
      " [0.99607575]\n",
      " [0.99607575]\n",
      " [0.99607575]\n",
      " [0.99607575]\n",
      " [0.99607575]\n",
      " [0.99607575]\n",
      " [0.99607575]\n",
      " [0.99607575]\n",
      " [0.99607575]\n",
      " [0.99607575]\n",
      " [0.99607575]\n",
      " [0.99607575]\n",
      " [0.99607575]\n",
      " [0.99607575]\n",
      " [0.99607575]\n",
      " [0.99607575]] negative\n"
     ]
    },
    {
     "name": "stderr",
     "output_type": "stream",
     "text": [
      "C:\\Users\\ISHIMWE K AHMED\\AppData\\Local\\Temp\\ipykernel_14916\\479605851.py:3: DeprecationWarning: In future, it will be an error for 'np.bool_' scalars to be interpreted as an index\n",
      "  print(res,label[np.argmax(trail_pad)>50])\n"
     ]
    }
   ],
   "source": [
    "res = model2.predict(trail_pad)\n",
    "label = ['positive','negative']\n",
    "print(res,label[np.argmax(trail_pad)>50])"
   ]
  },
  {
   "cell_type": "code",
   "execution_count": null,
   "id": "4e5d4ff8",
   "metadata": {},
   "outputs": [],
   "source": []
  }
 ],
 "metadata": {
  "kernelspec": {
   "display_name": "Python 3 (ipykernel)",
   "language": "python",
   "name": "python3"
  },
  "language_info": {
   "codemirror_mode": {
    "name": "ipython",
    "version": 3
   },
   "file_extension": ".py",
   "mimetype": "text/x-python",
   "name": "python",
   "nbconvert_exporter": "python",
   "pygments_lexer": "ipython3",
   "version": "3.9.13"
  }
 },
 "nbformat": 4,
 "nbformat_minor": 5
}
